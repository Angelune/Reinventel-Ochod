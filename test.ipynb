{
 "cells": [
  {
   "cell_type": "code",
   "execution_count": 49,
   "metadata": {},
   "outputs": [],
   "source": [
    "import numpy as np \n",
    "from pylab import *"
   ]
  },
  {
   "cell_type": "code",
   "execution_count": 60,
   "metadata": {},
   "outputs": [],
   "source": [
    "class tensor:\n",
    "    \"classe définissant les objets tenseurs\"\n",
    "    def __init__(self, n=3):\n",
    "        self.n=n\n",
    "        self.tens = np.random.random_sample(n)\n"
   ]
  },
  {
   "cell_type": "code",
   "execution_count": 61,
   "metadata": {},
   "outputs": [
    {
     "name": "stdout",
     "output_type": "stream",
     "text": [
      "[0.63888179 0.03064232 0.34342306 0.80088821]\n"
     ]
    }
   ],
   "source": [
    "test = tensor(4)\n",
    "\n",
    "print(test.tens)"
   ]
  },
  {
   "cell_type": "code",
   "execution_count": 62,
   "metadata": {},
   "outputs": [
    {
     "name": "stdout",
     "output_type": "stream",
     "text": [
      "[[0.79898508 0.06095487 0.22292107 0.66133844]\n",
      " [0.22825538 0.29883708 0.16546618 0.03774754]\n",
      " [0.57251187 0.59250795 0.19900218 0.69782839]]\n"
     ]
    }
   ],
   "source": [
    "poid = np.random.random_sample((3,4))\n",
    "print(poid)"
   ]
  },
  {
   "cell_type": "code",
   "execution_count": 63,
   "metadata": {},
   "outputs": [
    {
     "data": {
      "image/png": "[encoded data removed]",
      "text/plain": [
       "<Figure size 432x288 with 1 Axes>"
      ]
     },
     "metadata": {
      "needs_background": "light"
     },
     "output_type": "display_data"
    },
    {
     "name": "stdout",
     "output_type": "stream",
     "text": [
      "0.7310585786300049\n"
     ]
    }
   ],
   "source": [
    "def stable_sigmoid(x):\n",
    "\n",
    "    sig = np.where(x < 0, np.exp(x)/(1 + np.exp(x)), 1/(1 + np.exp(-x)))\n",
    "    return sig\n",
    "\n",
    "x = linspace(-5,5,20)\n",
    "y = stable_sigmoid(x)\n",
    "plot(x,y)\n",
    "xlim(-5,5)\n",
    "ylim(0, 1)\n",
    "\n",
    "show()\n",
    "\n",
    "print(stable_sigmoid(1))"
   ]
  },
  {
   "cell_type": "code",
   "execution_count": 64,
   "metadata": {},
   "outputs": [
    {
     "data": {
      "image/png": "[encoded data removed]",
      "text/plain": [
       "<Figure size 432x288 with 1 Axes>"
      ]
     },
     "metadata": {
      "needs_background": "light"
     },
     "output_type": "display_data"
    }
   ],
   "source": [
    "def stable_sigmoid(x):\n",
    "\n",
    "    sig =  np.exp(x)/(1 + np.exp(-x))\n",
    "    return sig\n",
    "\n",
    "x = linspace(-10,10,40)\n",
    "y = stable_sigmoid(x)\n",
    "plot(x,y)\n",
    "xlim(-10, 10)\n",
    "ylim(-0.5, 1.5)\n",
    "\n",
    "show()\n"
   ]
  },
  {
   "cell_type": "code",
   "execution_count": 65,
   "metadata": {},
   "outputs": [
    {
     "name": "stdout",
     "output_type": "stream",
     "text": [
      "5\n"
     ]
    }
   ],
   "source": [
    "x = np.array([5,6,7,8,9])\n",
    "print(len(x))"
   ]
  },
  {
   "cell_type": "code",
   "execution_count": 48,
   "metadata": {},
   "outputs": [
    {
     "name": "stdout",
     "output_type": "stream",
     "text": [
      "[10 11 12 13 14]\n",
      "[[1 2 3 4 5]\n",
      " [2 3 5 6 7]]\n",
      "[190 289]\n"
     ]
    }
   ],
   "source": [
    "a = np.arange(10,15)\n",
    "b = np.array([[1,2,3,4,5],[2,3,5,6,7]])\n",
    "print(a)\n",
    "print(b)\n",
    "print(b.dot(a))"
   ]
  },
  {
   "cell_type": "code",
   "execution_count": 67,
   "metadata": {},
   "outputs": [
    {
     "name": "stdout",
     "output_type": "stream",
     "text": [
      "[[0.67734764 0.02001255 0.82955195]\n",
      " [0.4524257  0.97750973 0.58148055]]\n",
      "5\n",
      "[3 5]\n"
     ]
    }
   ],
   "source": [
    "a = np.random.random((2,3))\n",
    "b = np.array([[1,2,3],[3,4,5]])\n",
    "liste = []\n",
    "liste.append(a)\n",
    "liste.append(b)\n",
    "print(a)\n",
    "print (b[1,2])\n",
    "print( liste[1][:,2])"
   ]
  },
  {
   "cell_type": "code",
   "execution_count": 68,
   "metadata": {},
   "outputs": [
    {
     "name": "stdout",
     "output_type": "stream",
     "text": [
      "1\n",
      "2\n"
     ]
    }
   ],
   "source": [
    "np.eye(1,3,2)\n",
    "\n",
    "for i in range(1,3):\n",
    "    print (i)"
   ]
  },
  {
   "cell_type": "code",
   "execution_count": 74,
   "metadata": {},
   "outputs": [
    {
     "name": "stdout",
     "output_type": "stream",
     "text": [
      "[[1. 1. 1.]]\n",
      "[4 8]\n"
     ]
    }
   ],
   "source": [
    "a = np.ones((1,3))\n",
    "print (a)\n",
    "b = np.array ([[1,1,1],[2,2,2]])\n",
    "c = np.array([1,2,1])\n",
    "\n",
    "a = b.dot(c)\n",
    "\n",
    "print(a)"
   ]
  },
  {
   "cell_type": "code",
   "execution_count": 40,
   "metadata": {},
   "outputs": [
    {
     "name": "stdout",
     "output_type": "stream",
     "text": [
      "[array([[0.32865627, 0.01861207, 0.1651864 , 0.70777302, 0.42091298],\n",
      "       [0.79793491, 0.13579274, 0.12523004, 0.08108339, 0.36858048],\n",
      "       [0.5426211 , 0.83954144, 0.48274856, 0.58195098, 0.56332334],\n",
      "       [0.        , 0.        , 0.        , 0.        , 1.        ]]), array([[0.96200759, 0.58857763, 0.91916814, 0.00795472, 0.56652466],\n",
      "       [0.48464284, 0.08268913, 0.38736734, 0.32522309, 0.12375746],\n",
      "       [0.2594085 , 0.29303398, 0.89919812, 0.7393377 , 0.56792724],\n",
      "       [0.        , 0.        , 0.        , 0.        , 1.        ]])]\n"
     ]
    }
   ],
   "source": [
    "\n",
    "poids =[]\n",
    "nbNeurones = 3\n",
    "nbNeuronesPreced = 4\n",
    "\n",
    "for i in range(1,3):\n",
    "    poids.append(np.random.random_sample((nbNeurones+1,nbNeuronesPreced+1))) #poids initialisés aléatoirement entre 0 et 1/ ATTENTION il manque le bias = 1 \n",
    "    poids[i-1][nbNeurones,:] = np.eye(1,nbNeuronesPreced+1,nbNeurones+1)\n",
    "\n",
    "print(poids)"
   ]
  },
  {
   "cell_type": "code",
   "execution_count": 86,
   "metadata": {},
   "outputs": [
    {
     "name": "stdout",
     "output_type": "stream",
     "text": [
      "parametrer - Combien de couches a le réseaux, entrées et sorties incluses\n",
      "Quel pas souhaitez-vous avoir pour l'apprentissage ?\n",
      "Combien y a t'il d'entrées ?\n",
      "Combien de neurones possède la couche 1\n",
      "Combien de neurones possède la dernière couche\n"
     ]
    }
   ],
   "source": [
    "import Graph as g\n",
    "import importlib\n",
    "importlib.reload(g)\n",
    "\n",
    "testG = g.Graph()\n",
    "\n",
    "p1 = np.array([[0.1,0.1,0.1],[0.2,0.2,0.2],[0.3,0.3,0.3]])\n",
    "p2 = np.array([0.1,0.1,0.1])\n",
    "lesPoids = [p1,p2]\n",
    "testG.parametrerPoidsFixes(lesPoids)\n"
   ]
  },
  {
   "cell_type": "code",
   "execution_count": 87,
   "metadata": {},
   "outputs": [
    {
     "name": "stdout",
     "output_type": "stream",
     "text": [
      "[array([0., 0.]), array([1., 1., 1.]), array([1.])]\n",
      "1\n",
      "2\n",
      "[array([1, 2, 1]), array([0.59868766, 0.68997448, 1.        ]), array(0.55696811)]\n"
     ]
    }
   ],
   "source": [
    "\n",
    "\n",
    "entree = np.array([1,2])\n",
    "print(testG.noeud)\n",
    "\n",
    "testG.passageForward(entree)\n",
    "\n",
    "print (testG.noeud)\n",
    "\n"
   ]
  },
  {
   "cell_type": "code",
   "execution_count": 71,
   "metadata": {},
   "outputs": [
    {
     "name": "stdout",
     "output_type": "stream",
     "text": [
      "1\n"
     ]
    }
   ],
   "source": [
    "import platform\n",
    "\n",
    "testG.passageBackward()\n"
   ]
  }
 ],
 "metadata": {
  "interpreter": {
   "hash": "d62bf26cced73ea125945064761b766a12ba49f06257a4865f283bda77d40a78"
  },
  "kernelspec": {
   "display_name": "Python 3.9.10 64-bit (windows store)",
   "language": "python",
   "name": "python3"
  },
  "language_info": {
   "codemirror_mode": {
    "name": "ipython",
    "version": 3
   },
   "file_extension": ".py",
   "mimetype": "text/x-python",
   "name": "python",
   "nbconvert_exporter": "python",
   "pygments_lexer": "ipython3",
   "version": "3.9.12"
  },
  "orig_nbformat": 4
 },
 "nbformat": 4,
 "nbformat_minor": 2
}
